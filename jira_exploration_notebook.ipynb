{
 "cells": [
  {
   "cell_type": "code",
   "execution_count": 658,
   "metadata": {},
   "outputs": [
    {
     "data": {
      "text/html": [
       "<script>\n",
       "code_show=true; \n",
       "function code_toggle() {\n",
       " if (code_show){\n",
       " $('div.input').hide();\n",
       " } else {\n",
       " $('div.input').show();\n",
       " }\n",
       " code_show = !code_show\n",
       "} \n",
       "$( document ).ready(code_toggle);\n",
       "</script>\n",
       "<form action=\"javascript:code_toggle()\"><input type=\"submit\" value=\"Click here to toggle on/off the raw code.\"></form>"
      ],
      "text/plain": [
       "<IPython.core.display.HTML object>"
      ]
     },
     "execution_count": 658,
     "metadata": {},
     "output_type": "execute_result"
    }
   ],
   "source": [
    "from IPython.display import HTML\n",
    "\n",
    "HTML('''<script>\n",
    "code_show=true; \n",
    "function code_toggle() {\n",
    " if (code_show){\n",
    " $('div.input').hide();\n",
    " } else {\n",
    " $('div.input').show();\n",
    " }\n",
    " code_show = !code_show\n",
    "} \n",
    "$( document ).ready(code_toggle);\n",
    "</script>\n",
    "<form action=\"javascript:code_toggle()\"><input type=\"submit\" value=\"Click here to toggle on/off the raw code.\"></form>''')"
   ]
  },
  {
   "cell_type": "markdown",
   "metadata": {},
   "source": [
    "# Jira exploration notebook\n",
    "\n",
    "### Workflow stages\n",
    "1. Question or problem definition.\n",
    "2. Acquire training and testing data.\n",
    "3. Wrangle, prepare, cleanse the data.\n",
    "4. Analyze, identify patterns, and explore the data.\n",
    "5. Model, predict and solve the problem.\n",
    "6. Visualize, report, and present the problem solving steps and final solution."
   ]
  },
  {
   "cell_type": "markdown",
   "metadata": {},
   "source": [
    "### Question and problem definition\n",
    "Contrary to common belief, the hardest part of data science isn’t building an accurate model or obtaining good, clean data. It is much harder to define feasible problems and come up with reasonable ways of measuring solutions. In agile domain this is not different, our job is make these questions to help teams succeed."
   ]
  },
  {
   "cell_type": "markdown",
   "metadata": {},
   "source": [
    "### Workflow goals\n",
    "The data science solutions workflow solves for seven major goals.\n",
    "\n",
    "**Classifying**. We may want to classify or categorize our samples. We may also want to understand the implications or correlation of different classes with our solution goal.\n",
    "\n",
    "**Correlating**. One can approach the problem based on available features within the training dataset. Which features within the dataset contribute significantly to our solution goal? Statistically speaking is there a correlation among a feature and solution goal? As the feature values change does the solution state change as well, and visa-versa? This can be tested both for numerical and categorical features in the given dataset. We may also want to determine correlation among features other than survival for subsequent goals and workflow stages. Correlating certain features may help in creating, completing, or correcting features.\n",
    "\n",
    "**Converting**. For modeling stage, one needs to prepare the data. Depending on the choice of model algorithm one may require all features to be converted to numerical equivalent values. So for instance converting text categorical values to numeric values.\n",
    "\n",
    "**Completing**. Data preparation may also require us to estimate any missing values within a feature. Model algorithms may work best when there are no missing values.\n",
    "\n",
    "**Correcting**. We may also analyze the given training dataset for errors or possibly innacurate values within features and try to corrent these values or exclude the samples containing the errors. One way to do this is to detect any outliers among our samples or features. We may also completely discard a feature if it is not contribting to the analysis or may significantly skew the results.\n",
    "\n",
    "**Creating**. Can we create new features based on an existing feature or a set of features, such that the new feature follows the correlation, conversion, completeness goals.\n",
    "\n",
    "**Charting**. How to select the right visualization plots and charts depending on nature of the data and the solution goals."
   ]
  },
  {
   "cell_type": "markdown",
   "metadata": {},
   "source": [
    "### Best practices\n",
    "* Performing feature correlation analysis early in the project.\n",
    "* Using multiple plots instead of overlays for readability."
   ]
  },
  {
   "cell_type": "code",
   "execution_count": 659,
   "metadata": {
    "collapsed": true
   },
   "outputs": [],
   "source": [
    "#Disable ssl warnings\n",
    "import urllib3\n",
    "urllib3.disable_warnings(urllib3.exceptions.InsecureRequestWarning)\n",
    "\n",
    "# jira dataset and credentials\n",
    "from getpass import getpass\n",
    "from jira import JIRA\n",
    "\n",
    "# data analysis and wrangling\n",
    "import numpy as np\n",
    "import pandas as pd\n",
    "from pandas import DataFrame\n",
    "\n",
    "# visualization\n",
    "import seaborn as sns\n",
    "import matplotlib.pyplot as plt\n",
    "%matplotlib inline\n",
    "\n",
    "import matplotlib.pyplot as plt\n",
    " \n",
    "fig_size = plt.rcParams[\"figure.figsize\"]\n",
    "fig_size[0] = 12\n",
    "fig_size[1] = 6\n",
    "plt.rcParams[\"figure.figsize\"] = fig_size\n",
    "\n",
    "# machine learning\n",
    "from sklearn.linear_model import LogisticRegression\n",
    "from sklearn.svm import SVC, LinearSVC\n",
    "from sklearn.ensemble import RandomForestClassifier\n",
    "from sklearn.neighbors import KNeighborsClassifier\n",
    "from sklearn.naive_bayes import GaussianNB\n",
    "from sklearn.linear_model import Perceptron\n",
    "from sklearn.linear_model import SGDClassifier\n",
    "from sklearn.tree import DecisionTreeClassifier"
   ]
  },
  {
   "cell_type": "markdown",
   "metadata": {},
   "source": [
    "### Acquire data\n",
    "The Python Pandas packages helps us work with our datasets, Jira packages helps fetching board data from server. We start by acquiring issues and statuses into Pandas DataFrames."
   ]
  },
  {
   "cell_type": "code",
   "execution_count": 660,
   "metadata": {},
   "outputs": [
    {
     "name": "stdout",
     "output_type": "stream",
     "text": [
      "Enter your username: arsouza\n",
      "Enter your password: ········\n"
     ]
    }
   ],
   "source": [
    "# Retrieve jira credentials\n",
    "username = input(\"Enter your username: \")\n",
    "password = getpass(prompt=\"Enter your password: \")\n",
    "\n",
    "jira = JIRA(options={'server': \"https://jira.intranet.uol.com.br/jira/\", 'verify': False},\n",
    "            basic_auth=(username, password))"
   ]
  },
  {
   "cell_type": "code",
   "execution_count": 661,
   "metadata": {
    "collapsed": true
   },
   "outputs": [],
   "source": [
    "# Get isse transitions from jira server\n",
    "def read_data_sets(jql, max_results=10000, status_alias=None):\n",
    "    if status_alias is None:\n",
    "        status_alias = {}\n",
    "\n",
    "    issues = jira.search_issues(jql, maxResults=max_results, expand='changelog')\n",
    "    rows = []\n",
    "    for issue in issues:\n",
    "        # Add the issue creation as the fist event transitio\n",
    "        epic = issue.raw['fields']['customfield_11453'] # TODO: Epic field may differ depending on jira version\n",
    "        \n",
    "        # Issue creation (None -> Backlog)\n",
    "        rows.append({'key': issue.key,\n",
    "                     'epic': epic,\n",
    "                     'ts': issue.fields.created,\n",
    "                     'from': None,\n",
    "                     'to': status_alias.get('0Backlog') or '0Backlog'})\n",
    "        \n",
    "        # Other transitions (Eg: Backlog to Development)\n",
    "        for history in issue.changelog.histories:\n",
    "            for item in history.items:\n",
    "                if item.field == 'status':\n",
    "                    rows.append({'key': issue.key,\n",
    "                                 'epic': epic,\n",
    "                                 'ts': history.created,\n",
    "                                 'from': status_alias.get(item.fromString) or item.fromString,\n",
    "                                 'to': status_alias.get(item.toString) or item.toString})                    \n",
    "    return DataFrame(rows)"
   ]
  },
  {
   "cell_type": "code",
   "execution_count": 662,
   "metadata": {
    "collapsed": true
   },
   "outputs": [],
   "source": [
    "# dirty status -> desired status\n",
    "alias={\n",
    "       'Test' : '2Test',\n",
    "       'Delivery': '3Delivery',\n",
    "       'Backlog': '0Backlog',\n",
    "       'Doing': '1Development',\n",
    "       'TODO': '0Backlog',\n",
    "       'Finished': '5Done',\n",
    "       'QA': '2Test',\n",
    "       'In Progress': '1Development',\n",
    "       'selected for development': '1Development',\n",
    "       'QA-Done': '2Test',\n",
    "       'Recusado': '4Rejected'\n",
    "       }\n",
    "transitions = read_data_sets(jql='project=GDE AND issuetype!=epic', status_alias=alias)"
   ]
  },
  {
   "cell_type": "markdown",
   "metadata": {},
   "source": [
    "### Analyze by describing data\n",
    "Pandas also helps describe the datasets answering following questions early in our research.\n",
    "\n",
    "* Which features are available in the dataset?"
   ]
  },
  {
   "cell_type": "code",
   "execution_count": 663,
   "metadata": {},
   "outputs": [
    {
     "name": "stdout",
     "output_type": "stream",
     "text": [
      "['epic' 'from' 'key' 'to' 'ts']\n"
     ]
    }
   ],
   "source": [
    "print(transitions.columns.values)"
   ]
  },
  {
   "cell_type": "markdown",
   "metadata": {},
   "source": [
    "* Which features are categorical?\n",
    "* Which features are numerical?"
   ]
  },
  {
   "cell_type": "code",
   "execution_count": 664,
   "metadata": {},
   "outputs": [
    {
     "data": {
      "text/html": [
       "<div>\n",
       "<style>\n",
       "    .dataframe thead tr:only-child th {\n",
       "        text-align: right;\n",
       "    }\n",
       "\n",
       "    .dataframe thead th {\n",
       "        text-align: left;\n",
       "    }\n",
       "\n",
       "    .dataframe tbody tr th {\n",
       "        vertical-align: top;\n",
       "    }\n",
       "</style>\n",
       "<table border=\"1\" class=\"dataframe\">\n",
       "  <thead>\n",
       "    <tr style=\"text-align: right;\">\n",
       "      <th></th>\n",
       "      <th>epic</th>\n",
       "      <th>from</th>\n",
       "      <th>key</th>\n",
       "      <th>to</th>\n",
       "      <th>ts</th>\n",
       "    </tr>\n",
       "  </thead>\n",
       "  <tbody>\n",
       "    <tr>\n",
       "      <th>0</th>\n",
       "      <td>None</td>\n",
       "      <td>None</td>\n",
       "      <td>GDE-49</td>\n",
       "      <td>0Backlog</td>\n",
       "      <td>2017-12-04T10:03:11.000-0200</td>\n",
       "    </tr>\n",
       "    <tr>\n",
       "      <th>1</th>\n",
       "      <td>None</td>\n",
       "      <td>None</td>\n",
       "      <td>GDE-48</td>\n",
       "      <td>0Backlog</td>\n",
       "      <td>2017-12-04T09:59:51.000-0200</td>\n",
       "    </tr>\n",
       "    <tr>\n",
       "      <th>2</th>\n",
       "      <td>None</td>\n",
       "      <td>0Backlog</td>\n",
       "      <td>GDE-48</td>\n",
       "      <td>2Test</td>\n",
       "      <td>2017-12-05T17:32:40.000-0200</td>\n",
       "    </tr>\n",
       "    <tr>\n",
       "      <th>3</th>\n",
       "      <td>None</td>\n",
       "      <td>None</td>\n",
       "      <td>GDE-47</td>\n",
       "      <td>0Backlog</td>\n",
       "      <td>2017-11-29T16:53:37.000-0200</td>\n",
       "    </tr>\n",
       "    <tr>\n",
       "      <th>4</th>\n",
       "      <td>None</td>\n",
       "      <td>0Backlog</td>\n",
       "      <td>GDE-47</td>\n",
       "      <td>2Test</td>\n",
       "      <td>2017-12-01T13:43:07.000-0200</td>\n",
       "    </tr>\n",
       "  </tbody>\n",
       "</table>\n",
       "</div>"
      ],
      "text/plain": [
       "   epic      from     key        to                            ts\n",
       "0  None      None  GDE-49  0Backlog  2017-12-04T10:03:11.000-0200\n",
       "1  None      None  GDE-48  0Backlog  2017-12-04T09:59:51.000-0200\n",
       "2  None  0Backlog  GDE-48     2Test  2017-12-05T17:32:40.000-0200\n",
       "3  None      None  GDE-47  0Backlog  2017-11-29T16:53:37.000-0200\n",
       "4  None  0Backlog  GDE-47     2Test  2017-12-01T13:43:07.000-0200"
      ]
     },
     "execution_count": 664,
     "metadata": {},
     "output_type": "execute_result"
    }
   ],
   "source": [
    "# preview the data\n",
    "transitions.head()"
   ]
  },
  {
   "cell_type": "code",
   "execution_count": 665,
   "metadata": {},
   "outputs": [
    {
     "name": "stdout",
     "output_type": "stream",
     "text": [
      "from statuses: [None '0Backlog' '2Test' '1Development' '5Done' '3Delivery']\n",
      "to statuses: ['0Backlog' '2Test' '3Delivery' '5Done' '1Development' '4Rejected']\n"
     ]
    }
   ],
   "source": [
    "# Print unique issue statuses so we can check if there's any unexpected value \n",
    "print('from statuses:', transitions['from'].unique())\n",
    "print('to statuses:',transitions['to'].unique())"
   ]
  },
  {
   "cell_type": "markdown",
   "metadata": {},
   "source": [
    "* Which features are mixed data types?\n",
    "    - Numerical, alphanumeric data within same feature. These are candidates for correcting goal. \n",
    "    \n",
    "    \n",
    "* Which features may contain errors or typos?\n",
    "    - This is harder to review for a large dataset, however reviewing a few samples from a smaller dataset may just tell us outright, which features may require correcting.  "
   ]
  },
  {
   "cell_type": "code",
   "execution_count": 666,
   "metadata": {},
   "outputs": [
    {
     "data": {
      "text/html": [
       "<div>\n",
       "<style>\n",
       "    .dataframe thead tr:only-child th {\n",
       "        text-align: right;\n",
       "    }\n",
       "\n",
       "    .dataframe thead th {\n",
       "        text-align: left;\n",
       "    }\n",
       "\n",
       "    .dataframe tbody tr th {\n",
       "        vertical-align: top;\n",
       "    }\n",
       "</style>\n",
       "<table border=\"1\" class=\"dataframe\">\n",
       "  <thead>\n",
       "    <tr style=\"text-align: right;\">\n",
       "      <th></th>\n",
       "      <th>epic</th>\n",
       "      <th>from</th>\n",
       "      <th>key</th>\n",
       "      <th>to</th>\n",
       "      <th>ts</th>\n",
       "    </tr>\n",
       "  </thead>\n",
       "  <tbody>\n",
       "    <tr>\n",
       "      <th>131</th>\n",
       "      <td>GDE-6</td>\n",
       "      <td>0Backlog</td>\n",
       "      <td>GDE-7</td>\n",
       "      <td>1Development</td>\n",
       "      <td>2017-04-11T16:48:33.000-0300</td>\n",
       "    </tr>\n",
       "    <tr>\n",
       "      <th>132</th>\n",
       "      <td>GDE-6</td>\n",
       "      <td>1Development</td>\n",
       "      <td>GDE-7</td>\n",
       "      <td>1Development</td>\n",
       "      <td>2017-04-12T13:05:22.000-0300</td>\n",
       "    </tr>\n",
       "    <tr>\n",
       "      <th>133</th>\n",
       "      <td>GDE-6</td>\n",
       "      <td>1Development</td>\n",
       "      <td>GDE-7</td>\n",
       "      <td>2Test</td>\n",
       "      <td>2017-04-13T14:59:13.000-0300</td>\n",
       "    </tr>\n",
       "    <tr>\n",
       "      <th>134</th>\n",
       "      <td>GDE-6</td>\n",
       "      <td>2Test</td>\n",
       "      <td>GDE-7</td>\n",
       "      <td>3Delivery</td>\n",
       "      <td>2017-04-13T15:21:30.000-0300</td>\n",
       "    </tr>\n",
       "    <tr>\n",
       "      <th>135</th>\n",
       "      <td>GDE-6</td>\n",
       "      <td>3Delivery</td>\n",
       "      <td>GDE-7</td>\n",
       "      <td>5Done</td>\n",
       "      <td>2017-04-18T13:32:39.000-0300</td>\n",
       "    </tr>\n",
       "  </tbody>\n",
       "</table>\n",
       "</div>"
      ],
      "text/plain": [
       "      epic          from    key            to                            ts\n",
       "131  GDE-6      0Backlog  GDE-7  1Development  2017-04-11T16:48:33.000-0300\n",
       "132  GDE-6  1Development  GDE-7  1Development  2017-04-12T13:05:22.000-0300\n",
       "133  GDE-6  1Development  GDE-7         2Test  2017-04-13T14:59:13.000-0300\n",
       "134  GDE-6         2Test  GDE-7     3Delivery  2017-04-13T15:21:30.000-0300\n",
       "135  GDE-6     3Delivery  GDE-7         5Done  2017-04-18T13:32:39.000-0300"
      ]
     },
     "execution_count": 666,
     "metadata": {},
     "output_type": "execute_result"
    }
   ],
   "source": [
    "transitions.tail()"
   ]
  },
  {
   "cell_type": "markdown",
   "metadata": {},
   "source": [
    "* Which features contain blank, null or empty values?\n",
    "  - These will require correcting.\n",
    "  \n",
    "  \n",
    "* What are the data types for various features?\n",
    "  - Helping us during converting goal."
   ]
  },
  {
   "cell_type": "code",
   "execution_count": 667,
   "metadata": {},
   "outputs": [
    {
     "name": "stdout",
     "output_type": "stream",
     "text": [
      "<class 'pandas.core.frame.DataFrame'>\n",
      "RangeIndex: 136 entries, 0 to 135\n",
      "Data columns (total 5 columns):\n",
      "epic    113 non-null object\n",
      "from    101 non-null object\n",
      "key     136 non-null object\n",
      "to      136 non-null object\n",
      "ts      136 non-null object\n",
      "dtypes: object(5)\n",
      "memory usage: 5.4+ KB\n"
     ]
    }
   ],
   "source": [
    "transitions.info()"
   ]
  },
  {
   "cell_type": "markdown",
   "metadata": {},
   "source": [
    "* What is the distribution of numerical feature values across the samples?\n",
    "  - This helps us determine, among other early insights, how representative is the training dataset of the actual problem domain. Eg. there are more unique features than expected? More unique 'from's or 'to's than your board have status  inidicates that a status_alias is missing"
   ]
  },
  {
   "cell_type": "code",
   "execution_count": 668,
   "metadata": {},
   "outputs": [
    {
     "data": {
      "text/html": [
       "<div>\n",
       "<style>\n",
       "    .dataframe thead tr:only-child th {\n",
       "        text-align: right;\n",
       "    }\n",
       "\n",
       "    .dataframe thead th {\n",
       "        text-align: left;\n",
       "    }\n",
       "\n",
       "    .dataframe tbody tr th {\n",
       "        vertical-align: top;\n",
       "    }\n",
       "</style>\n",
       "<table border=\"1\" class=\"dataframe\">\n",
       "  <thead>\n",
       "    <tr style=\"text-align: right;\">\n",
       "      <th></th>\n",
       "      <th>epic</th>\n",
       "      <th>from</th>\n",
       "      <th>key</th>\n",
       "      <th>to</th>\n",
       "      <th>ts</th>\n",
       "    </tr>\n",
       "  </thead>\n",
       "  <tbody>\n",
       "    <tr>\n",
       "      <th>count</th>\n",
       "      <td>113</td>\n",
       "      <td>101</td>\n",
       "      <td>136</td>\n",
       "      <td>136</td>\n",
       "      <td>136</td>\n",
       "    </tr>\n",
       "    <tr>\n",
       "      <th>unique</th>\n",
       "      <td>4</td>\n",
       "      <td>5</td>\n",
       "      <td>35</td>\n",
       "      <td>6</td>\n",
       "      <td>136</td>\n",
       "    </tr>\n",
       "    <tr>\n",
       "      <th>top</th>\n",
       "      <td>GDE-16</td>\n",
       "      <td>0Backlog</td>\n",
       "      <td>GDE-44</td>\n",
       "      <td>0Backlog</td>\n",
       "      <td>2017-07-10T16:43:13.000-0300</td>\n",
       "    </tr>\n",
       "    <tr>\n",
       "      <th>freq</th>\n",
       "      <td>81</td>\n",
       "      <td>40</td>\n",
       "      <td>9</td>\n",
       "      <td>42</td>\n",
       "      <td>1</td>\n",
       "    </tr>\n",
       "  </tbody>\n",
       "</table>\n",
       "</div>"
      ],
      "text/plain": [
       "          epic      from     key        to                            ts\n",
       "count      113       101     136       136                           136\n",
       "unique       4         5      35         6                           136\n",
       "top     GDE-16  0Backlog  GDE-44  0Backlog  2017-07-10T16:43:13.000-0300\n",
       "freq        81        40       9        42                             1"
      ]
     },
     "execution_count": 668,
     "metadata": {},
     "output_type": "execute_result"
    }
   ],
   "source": [
    "transitions.describe(include=['O'])\n"
   ]
  },
  {
   "cell_type": "markdown",
   "metadata": {},
   "source": []
  },
  {
   "cell_type": "markdown",
   "metadata": {},
   "source": [
    "## Create more features"
   ]
  },
  {
   "cell_type": "markdown",
   "metadata": {},
   "source": [
    "* How long it takes in each board phase?"
   ]
  },
  {
   "cell_type": "code",
   "execution_count": 669,
   "metadata": {},
   "outputs": [
    {
     "data": {
      "text/html": [
       "<div>\n",
       "<style>\n",
       "    .dataframe thead tr:only-child th {\n",
       "        text-align: right;\n",
       "    }\n",
       "\n",
       "    .dataframe thead th {\n",
       "        text-align: left;\n",
       "    }\n",
       "\n",
       "    .dataframe tbody tr th {\n",
       "        vertical-align: top;\n",
       "    }\n",
       "</style>\n",
       "<table border=\"1\" class=\"dataframe\">\n",
       "  <thead>\n",
       "    <tr style=\"text-align: right;\">\n",
       "      <th></th>\n",
       "      <th>0Backlog</th>\n",
       "      <th>1Development</th>\n",
       "      <th>2Test</th>\n",
       "      <th>3Delivery</th>\n",
       "      <th>5Done</th>\n",
       "    </tr>\n",
       "  </thead>\n",
       "  <tbody>\n",
       "    <tr>\n",
       "      <th>count</th>\n",
       "      <td>33</td>\n",
       "      <td>17</td>\n",
       "      <td>20</td>\n",
       "      <td>1</td>\n",
       "      <td>2</td>\n",
       "    </tr>\n",
       "    <tr>\n",
       "      <th>mean</th>\n",
       "      <td>17 days 15:03:35.424242</td>\n",
       "      <td>15 days 13:57:25.588235</td>\n",
       "      <td>19 days 22:16:10.300000</td>\n",
       "      <td>4 days 22:11:09</td>\n",
       "      <td>0 days 00:00:14</td>\n",
       "    </tr>\n",
       "    <tr>\n",
       "      <th>std</th>\n",
       "      <td>30 days 23:43:34.689865</td>\n",
       "      <td>14 days 06:13:40.872902</td>\n",
       "      <td>29 days 05:41:12.325024</td>\n",
       "      <td>NaT</td>\n",
       "      <td>0 days 00:00:07.071067</td>\n",
       "    </tr>\n",
       "    <tr>\n",
       "      <th>min</th>\n",
       "      <td>0 days 00:00:05</td>\n",
       "      <td>0 days 00:21:19</td>\n",
       "      <td>0 days 00:00:03</td>\n",
       "      <td>4 days 22:11:09</td>\n",
       "      <td>0 days 00:00:09</td>\n",
       "    </tr>\n",
       "    <tr>\n",
       "      <th>25%</th>\n",
       "      <td>0 days 00:18:12</td>\n",
       "      <td>2 days 23:24:00</td>\n",
       "      <td>0 days 00:40:15.250000</td>\n",
       "      <td>4 days 22:11:09</td>\n",
       "      <td>0 days 00:00:11.500000</td>\n",
       "    </tr>\n",
       "    <tr>\n",
       "      <th>50%</th>\n",
       "      <td>4 days 00:09:01</td>\n",
       "      <td>13 days 00:59:15</td>\n",
       "      <td>5 days 00:13:03</td>\n",
       "      <td>4 days 22:11:09</td>\n",
       "      <td>0 days 00:00:14</td>\n",
       "    </tr>\n",
       "    <tr>\n",
       "      <th>75%</th>\n",
       "      <td>17 days 23:23:45</td>\n",
       "      <td>21 days 22:51:32</td>\n",
       "      <td>23 days 17:24:49.250000</td>\n",
       "      <td>4 days 22:11:09</td>\n",
       "      <td>0 days 00:00:16.500000</td>\n",
       "    </tr>\n",
       "    <tr>\n",
       "      <th>max</th>\n",
       "      <td>153 days 00:35:06</td>\n",
       "      <td>49 days 23:26:04</td>\n",
       "      <td>91 days 20:11:09</td>\n",
       "      <td>4 days 22:11:09</td>\n",
       "      <td>0 days 00:00:19</td>\n",
       "    </tr>\n",
       "  </tbody>\n",
       "</table>\n",
       "</div>"
      ],
      "text/plain": [
       "                      0Backlog             1Development  \\\n",
       "count                       33                       17   \n",
       "mean   17 days 15:03:35.424242  15 days 13:57:25.588235   \n",
       "std    30 days 23:43:34.689865  14 days 06:13:40.872902   \n",
       "min            0 days 00:00:05          0 days 00:21:19   \n",
       "25%            0 days 00:18:12          2 days 23:24:00   \n",
       "50%            4 days 00:09:01         13 days 00:59:15   \n",
       "75%           17 days 23:23:45         21 days 22:51:32   \n",
       "max          153 days 00:35:06         49 days 23:26:04   \n",
       "\n",
       "                         2Test        3Delivery                   5Done  \n",
       "count                       20                1                       2  \n",
       "mean   19 days 22:16:10.300000  4 days 22:11:09         0 days 00:00:14  \n",
       "std    29 days 05:41:12.325024              NaT  0 days 00:00:07.071067  \n",
       "min            0 days 00:00:03  4 days 22:11:09         0 days 00:00:09  \n",
       "25%     0 days 00:40:15.250000  4 days 22:11:09  0 days 00:00:11.500000  \n",
       "50%            5 days 00:13:03  4 days 22:11:09         0 days 00:00:14  \n",
       "75%    23 days 17:24:49.250000  4 days 22:11:09  0 days 00:00:16.500000  \n",
       "max           91 days 20:11:09  4 days 22:11:09         0 days 00:00:19  "
      ]
     },
     "execution_count": 669,
     "metadata": {},
     "output_type": "execute_result"
    }
   ],
   "source": [
    "# Use transitions to generate the historic of a issue\n",
    "def board_time(transitions):        \n",
    "    last_iteration = None\n",
    "    last_issue = None\n",
    "    last_epic = None\n",
    "    \n",
    "    rows = []\n",
    "    collumns = {}    \n",
    "    for _, transition in transitions.sort_values(by=['key', 'ts'], ascending=True).iterrows():\n",
    "        dt = pd.to_datetime(transition['ts'])              \n",
    "        if transition['key'] != last_issue and last_issue is not None:\n",
    "            collumns['issue'] = last_issue\n",
    "            collumns['epic'] = last_epic\n",
    "            rows.append(collumns)\n",
    "            collumns = {}\n",
    "        \n",
    "        if transition['from'] is not None:\n",
    "            elapsed =  dt - last_iteration            \n",
    "            if transition['from'] in collumns:\n",
    "                collumns[transition['from']] += elapsed \n",
    "            else:\n",
    "                collumns[transition['from']] = elapsed\n",
    "        else:\n",
    "            collumns['started'] = dt\n",
    "                \n",
    "        last_iteration = dt\n",
    "        last_issue = transition['key']\n",
    "        last_epic = transition['epic']\n",
    "    return DataFrame(rows)\n",
    "\n",
    "df = board_time(transitions)\n",
    "df.head()\n",
    "df.describe()"
   ]
  },
  {
   "cell_type": "markdown",
   "metadata": {},
   "source": [
    "## Cumulative Flow Diagram"
   ]
  },
  {
   "cell_type": "code",
   "execution_count": 670,
   "metadata": {},
   "outputs": [
    {
     "data": {
      "image/png": "[encoded data removed]",
      "text/plain": [
       "<matplotlib.figure.Figure at 0x7f92bcff0978>"
      ]
     },
     "metadata": {},
     "output_type": "display_data"
    }
   ],
   "source": [
    "def cfd(transitions):\n",
    "    y = {}\n",
    "    x = []\n",
    "    states = transitions['to'].append(transitions['from']).unique()\n",
    "    for state in states:    \n",
    "        if state is not None:\n",
    "            y[state] = []\n",
    "            \n",
    "    for _, transition in transitions.sort_values(by=['ts'], ascending=True).iterrows():   \n",
    "        if transition['to'] != transition['from']:\n",
    "            x.append(pd.to_datetime(transition['ts']))\n",
    "            for state in states:\n",
    "                if state is not None:\n",
    "                    last_value = 0 if not y[state] else y[state][-1]\n",
    "                    if state == transition['from']:\n",
    "                        y[state].append(last_value - 1)\n",
    "                    elif state == transition['to']:\n",
    "                        y[state].append(last_value + 1)\n",
    "                    else: \n",
    "                        y[state].append(last_value)\n",
    "    y['ts'] = x\n",
    "    return DataFrame(y)\n",
    "\n",
    "cfd = cfd(transitions)\n",
    "fig, ax = plt.subplots()\n",
    "columns = cfd.drop('ts',1).columns.sort_values(ascending=False)\n",
    "x = cfd['ts'].values\n",
    "y = []\n",
    "\n",
    "area_labels=[]\n",
    "for column in columns:\n",
    "    y.append(cfd[column])\n",
    "    area_labels.append(column)\n",
    "\n",
    "\n",
    "stack = 0\n",
    "for index, item in enumerate(y):\n",
    "    max_index = y[index].argmax()\n",
    "    date_peak = x[max_index]\n",
    "    \n",
    "    quartile = 1/(index+1)\n",
    "    \n",
    "    ax.text(date_peak, y[index][max_index]* quartile, area_labels[index])\n",
    "    stack += y[index][max_index]\n",
    "\n",
    "ax.stackplot(x, y)\n",
    "\n",
    "\n",
    "#loc = y2.argmax()\n",
    "#ax.text(loc, y1[loc] + y2[loc]*0.33, areaLabels[1])\n",
    "\n",
    "#loc = y3.argmax()\n",
    "#ax.text(loc, y1[loc] + y2[loc] + y3[loc]*0.75, areaLabels[2]) \n",
    "\n",
    "plt.show()\n"
   ]
  },
  {
   "cell_type": "code",
   "execution_count": null,
   "metadata": {},
   "outputs": [],
   "source": []
  },
  {
   "cell_type": "markdown",
   "metadata": {},
   "source": [
    "## WIP\n",
    "* How many issues currently is in board"
   ]
  },
  {
   "cell_type": "code",
   "execution_count": 671,
   "metadata": {
    "collapsed": true
   },
   "outputs": [],
   "source": [
    "def wip(transitions):\n",
    "    current_wip = 0\n",
    "    wips = []\n",
    "    for _, transition in transitions.sort_values(by=['key', 'ts'], ascending=True).iterrows():        \n",
    "        if transition['from'] == '0Backlog' and transition['to'] not in ('5Done', '4Rejected'):\n",
    "            current_wip+=1\n",
    "        elif transition['to'] in ('0Backlog', '5Done', '4Rejected') and transition['from'] not in ('0Backlog','5Done', '4Rejected', None):\n",
    "            current_wip-=1\n",
    "        wips.append({'ts': pd.to_datetime(transition['ts']), 'wip': current_wip})\n",
    "    return pd.DataFrame(wips)\n",
    "wip = wip(transitions).sort_values(by='ts', ascending=True)"
   ]
  },
  {
   "cell_type": "code",
   "execution_count": 672,
   "metadata": {},
   "outputs": [
    {
     "data": {
      "text/plain": [
       "(array([ 736420.,  736450.,  736481.,  736511.,  736542.,  736573.,\n",
       "         736603.,  736634.,  736664.]), <a list of 9 Text xticklabel objects>)"
      ]
     },
     "execution_count": 672,
     "metadata": {},
     "output_type": "execute_result"
    },
    {
     "data": {
      "image/png": "[encoded data removed]",
      "text/plain": [
       "<matplotlib.figure.Figure at 0x7f92c705b080>"
      ]
     },
     "metadata": {},
     "output_type": "display_data"
    }
   ],
   "source": [
    "plt.plot(wip['ts'],wip['wip'])\n",
    "plt.xticks(rotation='vertical')"
   ]
  },
  {
   "cell_type": "code",
   "execution_count": 673,
   "metadata": {},
   "outputs": [
    {
     "data": {
      "text/html": [
       "<div>\n",
       "<style>\n",
       "    .dataframe thead tr:only-child th {\n",
       "        text-align: right;\n",
       "    }\n",
       "\n",
       "    .dataframe thead th {\n",
       "        text-align: left;\n",
       "    }\n",
       "\n",
       "    .dataframe tbody tr th {\n",
       "        vertical-align: top;\n",
       "    }\n",
       "</style>\n",
       "<table border=\"1\" class=\"dataframe\">\n",
       "  <thead>\n",
       "    <tr style=\"text-align: right;\">\n",
       "      <th></th>\n",
       "      <th>wip</th>\n",
       "    </tr>\n",
       "  </thead>\n",
       "  <tbody>\n",
       "    <tr>\n",
       "      <th>count</th>\n",
       "      <td>136.000000</td>\n",
       "    </tr>\n",
       "    <tr>\n",
       "      <th>mean</th>\n",
       "      <td>2.279412</td>\n",
       "    </tr>\n",
       "    <tr>\n",
       "      <th>std</th>\n",
       "      <td>2.569598</td>\n",
       "    </tr>\n",
       "    <tr>\n",
       "      <th>min</th>\n",
       "      <td>0.000000</td>\n",
       "    </tr>\n",
       "    <tr>\n",
       "      <th>25%</th>\n",
       "      <td>1.000000</td>\n",
       "    </tr>\n",
       "    <tr>\n",
       "      <th>50%</th>\n",
       "      <td>1.000000</td>\n",
       "    </tr>\n",
       "    <tr>\n",
       "      <th>75%</th>\n",
       "      <td>3.000000</td>\n",
       "    </tr>\n",
       "    <tr>\n",
       "      <th>max</th>\n",
       "      <td>9.000000</td>\n",
       "    </tr>\n",
       "  </tbody>\n",
       "</table>\n",
       "</div>"
      ],
      "text/plain": [
       "              wip\n",
       "count  136.000000\n",
       "mean     2.279412\n",
       "std      2.569598\n",
       "min      0.000000\n",
       "25%      1.000000\n",
       "50%      1.000000\n",
       "75%      3.000000\n",
       "max      9.000000"
      ]
     },
     "execution_count": 673,
     "metadata": {},
     "output_type": "execute_result"
    }
   ],
   "source": [
    "wip.describe()"
   ]
  }
 ],
 "metadata": {
  "kernelspec": {
   "display_name": "Python 3",
   "language": "python",
   "name": "python3"
  },
  "language_info": {
   "codemirror_mode": {
    "name": "ipython",
    "version": 3
   },
   "file_extension": ".py",
   "mimetype": "text/x-python",
   "name": "python",
   "nbconvert_exporter": "python",
   "pygments_lexer": "ipython3",
   "version": "3.6.3"
  }
 },
 "nbformat": 4,
 "nbformat_minor": 2
}
